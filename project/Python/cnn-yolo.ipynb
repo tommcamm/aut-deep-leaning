{
 "cells": [
  {
   "metadata": {},
   "cell_type": "markdown",
   "source": [
    "# Deep Learning - Underwater object recognition - CNN - YOLOv8\n",
    "\n",
    "This notebook focuses on using convolutional neural networks to detect object in the underwater realm\n"
   ],
   "id": "933288b342de09b3"
  },
  {
   "metadata": {},
   "cell_type": "code",
   "outputs": [],
   "execution_count": null,
   "source": [
    "# Imports\n",
    "from ultralytics import YOLO"
   ],
   "id": "7902040d90f97f80"
  },
  {
   "metadata": {},
   "cell_type": "code",
   "outputs": [],
   "execution_count": null,
   "source": [
    "# Initialization (for colab)\n",
    "# Google COLAB init\n",
    "if 'google.colab' in str(get_ipython()):\n",
    "    from google.colab import drive\n",
    "    drive.mount('/content/drive')\n",
    "\n",
    "    # copy dataset to local dir\n",
    "    !mkdir -p ./datasets\n",
    "    !cp /content/drive/MyDrive/Datasets/YOLO_UODD_dataset.zip ./datasets/YOLO_UODD_dataset.zip\n",
    "    !cp /content/drive/MyDrive/Datasets/uodd.yaml ./uodd.yaml\n",
    "    !unzip -q ./datasets/YOLO_UODD_dataset.zip -d ./datasets\n",
    "    !pip install ultralytics"
   ],
   "id": "2cd3abdb0289b556"
  },
  {
   "metadata": {},
   "cell_type": "markdown",
   "source": [
    "# YOLOv8 \n",
    "\n",
    "This section will use ultralytics to train and evaluate the YOLOv8 model on the UODD dataset."
   ],
   "id": "da884a0cff239473"
  },
  {
   "metadata": {},
   "cell_type": "code",
   "outputs": [],
   "execution_count": null,
   "source": [
    "## Enable tensorboard\n",
    "%load_ext tensorboard\n",
    "%tensorboard --logdir runs"
   ],
   "id": "54f79bb0d8d6006a"
  },
  {
   "metadata": {},
   "cell_type": "code",
   "outputs": [],
   "execution_count": null,
   "source": [
    "model = YOLO(\"yolov8s.pt\")  # load a pretrained model (recommended for training)\n",
    "# batch=-1 means 60% of GPU memory\n",
    "results = model.train(data=\"uodd.yaml\", epochs=100, batch=-1)"
   ],
   "id": "cc02521680ff7984"
  }
 ],
 "metadata": {
  "kernelspec": {
   "display_name": "Python 3",
   "language": "python",
   "name": "python3"
  },
  "language_info": {
   "codemirror_mode": {
    "name": "ipython",
    "version": 2
   },
   "file_extension": ".py",
   "mimetype": "text/x-python",
   "name": "python",
   "nbconvert_exporter": "python",
   "pygments_lexer": "ipython2",
   "version": "2.7.6"
  }
 },
 "nbformat": 4,
 "nbformat_minor": 5
}

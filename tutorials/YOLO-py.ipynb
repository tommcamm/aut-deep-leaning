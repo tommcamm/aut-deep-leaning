{
 "cells": [
  {
   "cell_type": "markdown",
   "source": [
    "# YOLO - Python usage intro\n",
    "\n",
    "## Part 1 - Use of pretrained model\n",
    "\n",
    "This part will use a pretrained model trained from the COCO dataset, the model is capable of detecting 80 common object.\n",
    "[detectable objects](https://github.com/arunponnusamy/object-detection-opencv/blob/master/yolov3.txt)."
   ],
   "metadata": {
    "collapsed": false
   },
   "id": "f3914dda536ca6f6"
  },
  {
   "cell_type": "code",
   "outputs": [
    {
     "name": "stdout",
     "output_type": "stream",
     "text": [
      "Downloading yolov3.weights...\n",
      "Downloaded successfully and saved to res\\yolov3.weights\n"
     ]
    }
   ],
   "source": [
    "# Step 1 - Download the weights\n",
    "import requests\n",
    "import os\n",
    "\n",
    "weights_url = 'https://pjreddie.com/media/files/yolov3.weights' # 230Mb!\n",
    "\n",
    "os.makedirs('res', exist_ok=True)\n",
    "filename = weights_url.split('/')[-1]\n",
    "save_path = os.path.join('res', filename)\n",
    "\n",
    "print(f'Downloading {filename}...')\n",
    "r = requests.get(weights_url, allow_redirects=True)\n",
    "if r.status_code == 200:\n",
    "    with open(save_path, 'wb') as f:\n",
    "        f.write(r.content)\n",
    "    print(f'Downloaded successfully and saved to {save_path}')\n",
    "else:\n",
    "    print(f'Failed to download weights. Status code: {r.status_code}')\n"
   ],
   "metadata": {
    "collapsed": false,
    "ExecuteTime": {
     "end_time": "2024-03-18T05:39:09.667503Z",
     "start_time": "2024-03-18T05:31:17.232077Z"
    }
   },
   "id": "a12067f9007cd7f2",
   "execution_count": 1
  },
  {
   "cell_type": "code",
   "outputs": [],
   "source": [
    "# Step - 2\n",
    "import cv2\n",
    "import numpy as np\n",
    "\n",
    "# Input variables to this block\n",
    "image_name = 'dog-frisbee.jpg'\n",
    "classes_name = 'yolov3-classes.txt'\n",
    "\n",
    "# read input image\n",
    "image = cv2.imread(os.path.join('res', image_name))\n",
    "\n",
    "Width = image.shape[1]\n",
    "Height = image.shape[0]\n",
    "scale = 0.00392\n",
    "\n",
    "# read class names from text file\n",
    "classes = None\n",
    "with open(os.path.join('res', classes_name), 'r') as f:\n",
    "    classes = [line.strip() for line in f.readlines()]\n",
    "\n",
    "# generate different colors for different classes \n",
    "COLORS = np.random.uniform(0, 255, size=(len(classes), 3))\n",
    "\n",
    "# read pre-trained model and config file\n",
    "net = cv2.dnn.readNet(args.weights, args.config)\n",
    "\n",
    "# create input blob \n",
    "blob = cv2.dnn.blobFromImage(image, scale, (416,416), (0,0,0), True, crop=False)\n",
    "\n",
    "# set input blob for the network\n",
    "net.setInput(blob)"
   ],
   "metadata": {
    "collapsed": false
   },
   "id": "86b97687ba6fd4c5"
  }
 ],
 "metadata": {
  "kernelspec": {
   "display_name": "Python 3",
   "language": "python",
   "name": "python3"
  },
  "language_info": {
   "codemirror_mode": {
    "name": "ipython",
    "version": 2
   },
   "file_extension": ".py",
   "mimetype": "text/x-python",
   "name": "python",
   "nbconvert_exporter": "python",
   "pygments_lexer": "ipython2",
   "version": "2.7.6"
  }
 },
 "nbformat": 4,
 "nbformat_minor": 5
}

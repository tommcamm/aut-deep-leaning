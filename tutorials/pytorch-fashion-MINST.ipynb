{
 "cells": [
  {
   "cell_type": "markdown",
   "id": "301aa80ae50ff0bd",
   "metadata": {},
   "source": [
    "# Fashion MINST test using PyTorch\n",
    "\n",
    "Considering the development status of *Tensorflow*, this tutorial will use *PyTorch* (to benefit from GPU in win environment)."
   ]
  },
  {
   "cell_type": "code",
   "execution_count": 2,
   "id": "681fd1ed10a8dede",
   "metadata": {
    "ExecuteTime": {
     "end_time": "2024-04-22T03:41:14.309704Z",
     "start_time": "2024-04-22T03:41:14.306370Z"
    }
   },
   "outputs": [],
   "source": [
    "# Import of all used libraries\n",
    "import torch\n",
    "from torch import nn\n",
    "from torch.utils.data import DataLoader\n",
    "from torchvision import datasets\n",
    "from torchvision.transforms import ToTensor"
   ]
  },
  {
   "cell_type": "code",
   "execution_count": 2,
   "id": "420428888dea67bc",
   "metadata": {
    "ExecuteTime": {
     "end_time": "2024-04-22T03:42:02.400497Z",
     "start_time": "2024-04-22T03:41:50.292033Z"
    }
   },
   "outputs": [],
   "source": [
    "# Download of the dataset, and split train-test\n",
    "training_data = datasets.FashionMNIST(\n",
    "    root=\"data\",\n",
    "    train=True,\n",
    "    download=True,\n",
    "    transform=ToTensor(),\n",
    ")\n",
    "\n",
    "# Download test data from open datasets.\n",
    "test_data = datasets.FashionMNIST(\n",
    "    root=\"data\",\n",
    "    train=False,\n",
    "    download=True,\n",
    "    transform=ToTensor(),\n",
    ")"
   ]
  },
  {
   "cell_type": "code",
   "execution_count": 3,
   "id": "a187c24c8d70f8ea",
   "metadata": {
    "ExecuteTime": {
     "end_time": "2024-04-22T03:45:39.446913Z",
     "start_time": "2024-04-22T03:45:39.443914Z"
    }
   },
   "outputs": [
    {
     "name": "stdout",
     "output_type": "stream",
     "text": [
      "Is GPU available: True\n"
     ]
    }
   ],
   "source": [
    "print(f'Is GPU available: {torch.cuda.is_available()}')"
   ]
  },
  {
   "cell_type": "code",
   "execution_count": 4,
   "id": "d588441b63948d97",
   "metadata": {
    "ExecuteTime": {
     "end_time": "2024-04-22T03:45:53.792055Z",
     "start_time": "2024-04-22T03:45:53.783946Z"
    }
   },
   "outputs": [
    {
     "name": "stdout",
     "output_type": "stream",
     "text": [
      "Shape of X [N, C, H, W]: torch.Size([64, 1, 28, 28])\n",
      "Shape of y: torch.Size([64]) torch.int64\n"
     ]
    }
   ],
   "source": [
    "# Preparation of the datasets\n",
    "batch_size = 64\n",
    "\n",
    "# Create data loaders.\n",
    "train_dataloader = DataLoader(training_data, batch_size=batch_size)\n",
    "test_dataloader = DataLoader(test_data, batch_size=batch_size)\n",
    "\n",
    "for X, y in test_dataloader:\n",
    "    print(f\"Shape of X [N, C, H, W]: {X.shape}\")\n",
    "    print(f\"Shape of y: {y.shape} {y.dtype}\")\n",
    "    break"
   ]
  },
  {
   "cell_type": "code",
   "execution_count": 5,
   "id": "70a542ae803b22f0",
   "metadata": {
    "ExecuteTime": {
     "end_time": "2024-04-22T03:46:43.155886Z",
     "start_time": "2024-04-22T03:46:43.136021Z"
    }
   },
   "outputs": [
    {
     "name": "stdout",
     "output_type": "stream",
     "text": [
      "Using cuda device\n",
      "NeuralNetwork(\n",
      "  (flatten): Flatten(start_dim=1, end_dim=-1)\n",
      "  (linear_relu_stack): Sequential(\n",
      "    (0): Linear(in_features=784, out_features=512, bias=True)\n",
      "    (1): ReLU()\n",
      "    (2): Linear(in_features=512, out_features=512, bias=True)\n",
      "    (3): ReLU()\n",
      "    (4): Linear(in_features=512, out_features=10, bias=True)\n",
      "  )\n",
      ")\n"
     ]
    }
   ],
   "source": [
    "# Get cpu, gpu or mps device for training.\n",
    "device = (\n",
    "    \"cuda\"\n",
    "    if torch.cuda.is_available()\n",
    "    else \"mps\"\n",
    "    if torch.backends.mps.is_available()\n",
    "    else \"cpu\"\n",
    ")\n",
    "print(f\"Using {device} device\")\n",
    "\n",
    "# Define model\n",
    "class NeuralNetwork(nn.Module):\n",
    "    def __init__(self):\n",
    "        super().__init__()\n",
    "        self.flatten = nn.Flatten()\n",
    "        self.linear_relu_stack = nn.Sequential(\n",
    "            nn.Linear(28*28, 512),\n",
    "            nn.ReLU(),\n",
    "            nn.Linear(512, 512),\n",
    "            nn.ReLU(),\n",
    "            nn.Linear(512, 10)\n",
    "        )\n",
    "\n",
    "    def forward(self, x):\n",
    "        x = self.flatten(x)\n",
    "        logits = self.linear_relu_stack(x)\n",
    "        return logits\n",
    "\n",
    "model = NeuralNetwork().to(device)\n",
    "print(model)"
   ]
  },
  {
   "cell_type": "code",
   "execution_count": 6,
   "id": "3c7f0e4e6600dac6",
   "metadata": {
    "ExecuteTime": {
     "end_time": "2024-04-22T03:47:27.778985Z",
     "start_time": "2024-04-22T03:47:27.775467Z"
    }
   },
   "outputs": [],
   "source": [
    "# Model training\n",
    "loss_fn = nn.CrossEntropyLoss()\n",
    "optimizer = torch.optim.SGD(model.parameters(), lr=1e-3)"
   ]
  },
  {
   "cell_type": "code",
   "execution_count": 7,
   "id": "e63f61e4e44c4aa6",
   "metadata": {
    "ExecuteTime": {
     "end_time": "2024-04-22T03:47:53.657762Z",
     "start_time": "2024-04-22T03:47:53.653606Z"
    }
   },
   "outputs": [],
   "source": [
    "def train(dataloader, model, loss_fn, optimizer):\n",
    "    size = len(dataloader.dataset)\n",
    "    model.train()\n",
    "    for batch, (X, y) in enumerate(dataloader):\n",
    "        X, y = X.to(device), y.to(device)\n",
    "\n",
    "        # Compute prediction error\n",
    "        pred = model(X)\n",
    "        loss = loss_fn(pred, y)\n",
    "\n",
    "        # Backpropagation\n",
    "        loss.backward()\n",
    "        optimizer.step()\n",
    "        optimizer.zero_grad()\n",
    "\n",
    "        if batch % 100 == 0:\n",
    "            loss, current = loss.item(), (batch + 1) * len(X)\n",
    "            print(f\"loss: {loss:>7f}  [{current:>5d}/{size:>5d}]\")"
   ]
  },
  {
   "cell_type": "code",
   "execution_count": 8,
   "id": "743186d1f32150bc",
   "metadata": {
    "ExecuteTime": {
     "end_time": "2024-04-22T03:48:18.854674Z",
     "start_time": "2024-04-22T03:48:18.850823Z"
    }
   },
   "outputs": [],
   "source": [
    "def test(dataloader, model, loss_fn):\n",
    "    size = len(dataloader.dataset)\n",
    "    num_batches = len(dataloader)\n",
    "    model.eval()\n",
    "    test_loss, correct = 0, 0\n",
    "    with torch.no_grad():\n",
    "        for X, y in dataloader:\n",
    "            X, y = X.to(device), y.to(device)\n",
    "            pred = model(X)\n",
    "            test_loss += loss_fn(pred, y).item()\n",
    "            correct += (pred.argmax(1) == y).type(torch.float).sum().item()\n",
    "    test_loss /= num_batches\n",
    "    correct /= size\n",
    "    print(f\"Test Error: \\n Accuracy: {(100*correct):>0.1f}%, Avg loss: {test_loss:>8f} \\n\")"
   ]
  },
  {
   "cell_type": "code",
   "execution_count": 9,
   "id": "2430848f36d4a287",
   "metadata": {
    "ExecuteTime": {
     "end_time": "2024-04-22T03:51:17.880305Z",
     "start_time": "2024-04-22T03:50:28.185419Z"
    }
   },
   "outputs": [
    {
     "name": "stdout",
     "output_type": "stream",
     "text": [
      "Epoch 1\n",
      "-------------------------------\n",
      "loss: 2.309933  [   64/60000]\n",
      "loss: 2.293823  [ 6464/60000]\n",
      "loss: 2.275859  [12864/60000]\n",
      "loss: 2.265542  [19264/60000]\n",
      "loss: 2.249004  [25664/60000]\n",
      "loss: 2.220004  [32064/60000]\n",
      "loss: 2.235188  [38464/60000]\n",
      "loss: 2.192889  [44864/60000]\n",
      "loss: 2.192904  [51264/60000]\n",
      "loss: 2.156872  [57664/60000]\n",
      "Test Error: \n",
      " Accuracy: 33.7%, Avg loss: 2.151749 \n",
      "\n",
      "Epoch 2\n",
      "-------------------------------\n",
      "loss: 2.163565  [   64/60000]\n",
      "loss: 2.154144  [ 6464/60000]\n",
      "loss: 2.098743  [12864/60000]\n",
      "loss: 2.113400  [19264/60000]\n",
      "loss: 2.067267  [25664/60000]\n",
      "loss: 2.003006  [32064/60000]\n",
      "loss: 2.037949  [38464/60000]\n",
      "loss: 1.952172  [44864/60000]\n",
      "loss: 1.957268  [51264/60000]\n",
      "loss: 1.891924  [57664/60000]\n",
      "Test Error: \n",
      " Accuracy: 56.7%, Avg loss: 1.891793 \n",
      "\n",
      "Epoch 3\n",
      "-------------------------------\n",
      "loss: 1.917563  [   64/60000]\n",
      "loss: 1.891047  [ 6464/60000]\n",
      "loss: 1.780629  [12864/60000]\n",
      "loss: 1.822418  [19264/60000]\n",
      "loss: 1.724569  [25664/60000]\n",
      "loss: 1.670089  [32064/60000]\n",
      "loss: 1.693489  [38464/60000]\n",
      "loss: 1.591373  [44864/60000]\n",
      "loss: 1.615833  [51264/60000]\n",
      "loss: 1.514600  [57664/60000]\n",
      "Test Error: \n",
      " Accuracy: 62.6%, Avg loss: 1.538802 \n",
      "\n",
      "Epoch 4\n",
      "-------------------------------\n",
      "loss: 1.594179  [   64/60000]\n",
      "loss: 1.563113  [ 6464/60000]\n",
      "loss: 1.420313  [12864/60000]\n",
      "loss: 1.491309  [19264/60000]\n",
      "loss: 1.388510  [25664/60000]\n",
      "loss: 1.375553  [32064/60000]\n",
      "loss: 1.386689  [38464/60000]\n",
      "loss: 1.310930  [44864/60000]\n",
      "loss: 1.348723  [51264/60000]\n",
      "loss: 1.242304  [57664/60000]\n",
      "Test Error: \n",
      " Accuracy: 63.7%, Avg loss: 1.279508 \n",
      "\n",
      "Epoch 5\n",
      "-------------------------------\n",
      "loss: 1.346287  [   64/60000]\n",
      "loss: 1.329849  [ 6464/60000]\n",
      "loss: 1.171470  [12864/60000]\n",
      "loss: 1.271579  [19264/60000]\n",
      "loss: 1.160226  [25664/60000]\n",
      "loss: 1.179642  [32064/60000]\n",
      "loss: 1.193671  [38464/60000]\n",
      "loss: 1.132667  [44864/60000]\n",
      "loss: 1.175371  [51264/60000]\n",
      "loss: 1.079122  [57664/60000]\n",
      "Test Error: \n",
      " Accuracy: 64.9%, Avg loss: 1.112174 \n",
      "\n",
      "Epoch 6\n",
      "-------------------------------\n",
      "loss: 1.173647  [   64/60000]\n",
      "loss: 1.178109  [ 6464/60000]\n",
      "loss: 1.002337  [12864/60000]\n",
      "loss: 1.130130  [19264/60000]\n",
      "loss: 1.011709  [25664/60000]\n",
      "loss: 1.042914  [32064/60000]\n",
      "loss: 1.071423  [38464/60000]\n",
      "loss: 1.013790  [44864/60000]\n",
      "loss: 1.058066  [51264/60000]\n",
      "loss: 0.974816  [57664/60000]\n",
      "Test Error: \n",
      " Accuracy: 66.1%, Avg loss: 1.000613 \n",
      "\n",
      "Epoch 7\n",
      "-------------------------------\n",
      "loss: 1.048829  [   64/60000]\n",
      "loss: 1.077533  [ 6464/60000]\n",
      "loss: 0.883158  [12864/60000]\n",
      "loss: 1.034444  [19264/60000]\n",
      "loss: 0.916195  [25664/60000]\n",
      "loss: 0.943833  [32064/60000]\n",
      "loss: 0.990332  [38464/60000]\n",
      "loss: 0.933170  [44864/60000]\n",
      "loss: 0.974101  [51264/60000]\n",
      "loss: 0.903852  [57664/60000]\n",
      "Test Error: \n",
      " Accuracy: 67.3%, Avg loss: 0.922812 \n",
      "\n",
      "Epoch 8\n",
      "-------------------------------\n",
      "loss: 0.954420  [   64/60000]\n",
      "loss: 1.006715  [ 6464/60000]\n",
      "loss: 0.796042  [12864/60000]\n",
      "loss: 0.966070  [19264/60000]\n",
      "loss: 0.852455  [25664/60000]\n",
      "loss: 0.869702  [32064/60000]\n",
      "loss: 0.933089  [38464/60000]\n",
      "loss: 0.877874  [44864/60000]\n",
      "loss: 0.912405  [51264/60000]\n",
      "loss: 0.852907  [57664/60000]\n",
      "Test Error: \n",
      " Accuracy: 68.7%, Avg loss: 0.866347 \n",
      "\n",
      "Epoch 9\n",
      "-------------------------------\n",
      "loss: 0.881407  [   64/60000]\n",
      "loss: 0.953680  [ 6464/60000]\n",
      "loss: 0.730659  [12864/60000]\n",
      "loss: 0.915245  [19264/60000]\n",
      "loss: 0.807165  [25664/60000]\n",
      "loss: 0.813545  [32064/60000]\n",
      "loss: 0.890027  [38464/60000]\n",
      "loss: 0.838944  [44864/60000]\n",
      "loss: 0.865971  [51264/60000]\n",
      "loss: 0.814398  [57664/60000]\n",
      "Test Error: \n",
      " Accuracy: 69.9%, Avg loss: 0.823680 \n",
      "\n",
      "Epoch 10\n",
      "-------------------------------\n",
      "loss: 0.823403  [   64/60000]\n",
      "loss: 0.911392  [ 6464/60000]\n",
      "loss: 0.680210  [12864/60000]\n",
      "loss: 0.876150  [19264/60000]\n",
      "loss: 0.773087  [25664/60000]\n",
      "loss: 0.770476  [32064/60000]\n",
      "loss: 0.855520  [38464/60000]\n",
      "loss: 0.810342  [44864/60000]\n",
      "loss: 0.830197  [51264/60000]\n",
      "loss: 0.783961  [57664/60000]\n",
      "Test Error: \n",
      " Accuracy: 71.3%, Avg loss: 0.790160 \n",
      "\n",
      "Done!\n"
     ]
    }
   ],
   "source": [
    "epochs = 10\n",
    "for t in range(epochs):\n",
    "    print(f\"Epoch {t+1}\\n-------------------------------\")\n",
    "    train(train_dataloader, model, loss_fn, optimizer)\n",
    "    test(test_dataloader, model, loss_fn)\n",
    "print(\"Done!\")"
   ]
  },
  {
   "cell_type": "markdown",
   "id": "9e77dcbb174a083",
   "metadata": {},
   "source": [
    "## Model Save, Restore and Use"
   ]
  },
  {
   "cell_type": "code",
   "execution_count": 14,
   "id": "ce6e6409034b7666",
   "metadata": {
    "ExecuteTime": {
     "end_time": "2024-04-22T03:49:36.276702Z",
     "start_time": "2024-04-22T03:49:36.266907Z"
    }
   },
   "outputs": [
    {
     "name": "stdout",
     "output_type": "stream",
     "text": [
      "Saved PyTorch Model State to model.pth\n"
     ]
    }
   ],
   "source": [
    "torch.save(model.state_dict(), \"model.pth\")\n",
    "print(\"Saved PyTorch Model State to model.pth\")"
   ]
  },
  {
   "cell_type": "code",
   "execution_count": 15,
   "id": "9546c46ca3e0307b",
   "metadata": {
    "ExecuteTime": {
     "end_time": "2024-04-22T03:49:46.767126Z",
     "start_time": "2024-04-22T03:49:46.744046Z"
    }
   },
   "outputs": [
    {
     "data": {
      "text/plain": [
       "<All keys matched successfully>"
      ]
     },
     "execution_count": 15,
     "metadata": {},
     "output_type": "execute_result"
    }
   ],
   "source": [
    "model = NeuralNetwork().to(device)\n",
    "model.load_state_dict(torch.load(\"model.pth\"))"
   ]
  },
  {
   "cell_type": "code",
   "execution_count": 28,
   "id": "f3795c516e9e823d",
   "metadata": {
    "ExecuteTime": {
     "end_time": "2024-04-22T03:50:11.345988Z",
     "start_time": "2024-04-22T03:50:11.337976Z"
    }
   },
   "outputs": [
    {
     "name": "stdout",
     "output_type": "stream",
     "text": [
      "Predicted: \"Ankle boot\", Actual: \"Ankle boot\"\n"
     ]
    }
   ],
   "source": [
    "# Model use\n",
    "classes = [\n",
    "    \"T-shirt/top\",\n",
    "    \"Trouser\",\n",
    "    \"Pullover\",\n",
    "    \"Dress\",\n",
    "    \"Coat\",\n",
    "    \"Sandal\",\n",
    "    \"Shirt\",\n",
    "    \"Sneaker\",\n",
    "    \"Bag\",\n",
    "    \"Ankle boot\",\n",
    "]\n",
    "\n",
    "model.eval()\n",
    "x, y = test_data[0][0], test_data[0][1]\n",
    "with torch.no_grad():\n",
    "    x = x.to(device)\n",
    "    pred = model(x)\n",
    "    predicted, actual = classes[pred[0].argmax(0)], classes[y]\n",
    "    print(f'Predicted: \"{predicted}\", Actual: \"{actual}\"')"
   ]
  }
 ],
 "metadata": {
  "kernelspec": {
   "display_name": "Python 3",
   "language": "python",
   "name": "python3"
  },
  "language_info": {
   "codemirror_mode": {
    "name": "ipython",
    "version": 3
   },
   "file_extension": ".py",
   "mimetype": "text/x-python",
   "name": "python",
   "nbconvert_exporter": "python",
   "pygments_lexer": "ipython3",
   "version": "undefined.undefined.undefined"
  }
 },
 "nbformat": 4,
 "nbformat_minor": 5
}
